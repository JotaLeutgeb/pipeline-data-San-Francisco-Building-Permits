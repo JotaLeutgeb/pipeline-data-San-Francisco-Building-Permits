{
 "cells": [
  {
   "cell_type": "code",
   "execution_count": null,
   "id": "5dfd37ff",
   "metadata": {},
   "outputs": [
    {
     "ename": "ModuleNotFoundError",
     "evalue": "No module named 'configs'",
     "output_type": "error",
     "traceback": [
      "\u001b[31m---------------------------------------------------------------------------\u001b[39m",
      "\u001b[31mModuleNotFoundError\u001b[39m                       Traceback (most recent call last)",
      "\u001b[36mCell\u001b[39m\u001b[36m \u001b[39m\u001b[32mIn[10]\u001b[39m\u001b[32m, line 3\u001b[39m\n\u001b[32m      1\u001b[39m \u001b[38;5;28;01mimport\u001b[39;00m\u001b[38;5;250m \u001b[39m\u001b[34;01mpandas\u001b[39;00m\u001b[38;5;250m \u001b[39m\u001b[38;5;28;01mas\u001b[39;00m\u001b[38;5;250m \u001b[39m\u001b[34;01mpd\u001b[39;00m\n\u001b[32m      2\u001b[39m \u001b[38;5;28;01mimport\u001b[39;00m\u001b[38;5;250m \u001b[39m\u001b[34;01mos\u001b[39;00m\n\u001b[32m----> \u001b[39m\u001b[32m3\u001b[39m \u001b[38;5;28;01mfrom\u001b[39;00m\u001b[38;5;250m \u001b[39m\u001b[34;01mconfigs\u001b[39;00m\u001b[34;01m.\u001b[39;00m\u001b[34;01mconfig\u001b[39;00m\u001b[38;5;250m \u001b[39m\u001b[38;5;28;01mimport\u001b[39;00m RAW_DATA_DIR, PROCESSED_DATA_DIR\n",
      "\u001b[31mModuleNotFoundError\u001b[39m: No module named 'configs'"
     ]
    }
   ],
   "source": [
    "import pandas as pd\n",
    "import os"
   ]
  },
  {
   "cell_type": "code",
   "execution_count": 4,
   "id": "fc7973b7",
   "metadata": {},
   "outputs": [
    {
     "name": "stdout",
     "output_type": "stream",
     "text": [
      "d:\\AAPROYECTOS\\pipeline_datos_lending_club\\notebooks\n"
     ]
    }
   ],
   "source": [
    "print(os.getcwd())"
   ]
  },
  {
   "cell_type": "code",
   "execution_count": 5,
   "id": "31bea8ee",
   "metadata": {},
   "outputs": [
    {
     "name": "stderr",
     "output_type": "stream",
     "text": [
      "C:\\Users\\joaqu\\AppData\\Local\\Temp\\ipykernel_18540\\971603415.py:1: DtypeWarning: Columns (18,23,24,32,35,37) have mixed types. Specify dtype option on import or set low_memory=False.\n",
      "  df = pd.read_csv(r'D:\\AAPROYECTOS\\pipeline_datos_lending_club\\data\\raw\\Building_Permits_20250630.csv')\n"
     ]
    }
   ],
   "source": [
    "df = pd.read_csv(r'D:\\AAPROYECTOS\\pipeline_datos_lending_club\\data\\raw\\Building_Permits_20250630.csv')"
   ]
  },
  {
   "cell_type": "code",
   "execution_count": 6,
   "id": "ad63bb21",
   "metadata": {},
   "outputs": [
    {
     "data": {
      "text/html": [
       "<div>\n",
       "<style scoped>\n",
       "    .dataframe tbody tr th:only-of-type {\n",
       "        vertical-align: middle;\n",
       "    }\n",
       "\n",
       "    .dataframe tbody tr th {\n",
       "        vertical-align: top;\n",
       "    }\n",
       "\n",
       "    .dataframe thead th {\n",
       "        text-align: right;\n",
       "    }\n",
       "</style>\n",
       "<table border=\"1\" class=\"dataframe\">\n",
       "  <thead>\n",
       "    <tr style=\"text-align: right;\">\n",
       "      <th></th>\n",
       "      <th>Permit Number</th>\n",
       "      <th>Permit Type</th>\n",
       "      <th>Permit Type Definition</th>\n",
       "      <th>Permit Creation Date</th>\n",
       "      <th>Block</th>\n",
       "      <th>Lot</th>\n",
       "      <th>Street Number</th>\n",
       "      <th>Street Number Suffix</th>\n",
       "      <th>Street Name</th>\n",
       "      <th>Street Suffix</th>\n",
       "      <th>...</th>\n",
       "      <th>ADU</th>\n",
       "      <th>Primary Address Flag</th>\n",
       "      <th>supervisor_district</th>\n",
       "      <th>neighborhoods_analysis_boundaries</th>\n",
       "      <th>Zipcode</th>\n",
       "      <th>Location</th>\n",
       "      <th>point_source</th>\n",
       "      <th>Record ID</th>\n",
       "      <th>data_as_of</th>\n",
       "      <th>data_loaded_at</th>\n",
       "    </tr>\n",
       "  </thead>\n",
       "  <tbody>\n",
       "    <tr>\n",
       "      <th>0</th>\n",
       "      <td>202506249360</td>\n",
       "      <td>8</td>\n",
       "      <td>otc alterations permit</td>\n",
       "      <td>2025/06/24 01:28:32 PM</td>\n",
       "      <td>2312</td>\n",
       "      <td>014</td>\n",
       "      <td>2294</td>\n",
       "      <td>NaN</td>\n",
       "      <td>38th</td>\n",
       "      <td>Av</td>\n",
       "      <td>...</td>\n",
       "      <td>N</td>\n",
       "      <td>Y</td>\n",
       "      <td>4.0</td>\n",
       "      <td>Sunset/Parkside</td>\n",
       "      <td>94116.0</td>\n",
       "      <td>POINT (-122.49596958 37.744174758)</td>\n",
       "      <td>eas_address_point</td>\n",
       "      <td>1724919130633</td>\n",
       "      <td>2025/06/28 11:55:01 PM</td>\n",
       "      <td>2025/06/29 03:38:20 AM</td>\n",
       "    </tr>\n",
       "    <tr>\n",
       "      <th>1</th>\n",
       "      <td>202412046167</td>\n",
       "      <td>8</td>\n",
       "      <td>otc alterations permit</td>\n",
       "      <td>2024/12/04 12:00:00 AM</td>\n",
       "      <td>3605</td>\n",
       "      <td>023</td>\n",
       "      <td>777</td>\n",
       "      <td>NaN</td>\n",
       "      <td>Sanchez</td>\n",
       "      <td>St</td>\n",
       "      <td>...</td>\n",
       "      <td>N</td>\n",
       "      <td>NaN</td>\n",
       "      <td>8.0</td>\n",
       "      <td>Castro/Upper Market</td>\n",
       "      <td>94114.0</td>\n",
       "      <td>POINT (-122.429821882 37.756697987)</td>\n",
       "      <td>eas_address_point</td>\n",
       "      <td>1710434429538</td>\n",
       "      <td>2025/06/28 11:55:01 PM</td>\n",
       "      <td>2025/06/29 03:38:20 AM</td>\n",
       "    </tr>\n",
       "    <tr>\n",
       "      <th>2</th>\n",
       "      <td>202412046151</td>\n",
       "      <td>8</td>\n",
       "      <td>otc alterations permit</td>\n",
       "      <td>2024/12/04 12:00:00 AM</td>\n",
       "      <td>3618</td>\n",
       "      <td>095</td>\n",
       "      <td>835</td>\n",
       "      <td>NaN</td>\n",
       "      <td>Dolores</td>\n",
       "      <td>St</td>\n",
       "      <td>...</td>\n",
       "      <td>N</td>\n",
       "      <td>Y</td>\n",
       "      <td>8.0</td>\n",
       "      <td>Mission</td>\n",
       "      <td>94110.0</td>\n",
       "      <td>POINT (-122.425320818 37.756107837)</td>\n",
       "      <td>eas_address_point</td>\n",
       "      <td>1710416453742</td>\n",
       "      <td>2025/06/29 11:55:01 PM</td>\n",
       "      <td>2025/06/30 03:38:55 AM</td>\n",
       "    </tr>\n",
       "  </tbody>\n",
       "</table>\n",
       "<p>3 rows × 52 columns</p>\n",
       "</div>"
      ],
      "text/plain": [
       "  Permit Number  Permit Type  Permit Type Definition    Permit Creation Date  \\\n",
       "0  202506249360            8  otc alterations permit  2025/06/24 01:28:32 PM   \n",
       "1  202412046167            8  otc alterations permit  2024/12/04 12:00:00 AM   \n",
       "2  202412046151            8  otc alterations permit  2024/12/04 12:00:00 AM   \n",
       "\n",
       "  Block  Lot  Street Number Street Number Suffix Street Name Street Suffix  \\\n",
       "0  2312  014           2294                  NaN        38th            Av   \n",
       "1  3605  023            777                  NaN     Sanchez            St   \n",
       "2  3618  095            835                  NaN     Dolores            St   \n",
       "\n",
       "   ...  ADU Primary Address Flag supervisor_district  \\\n",
       "0  ...    N                    Y                 4.0   \n",
       "1  ...    N                  NaN                 8.0   \n",
       "2  ...    N                    Y                 8.0   \n",
       "\n",
       "  neighborhoods_analysis_boundaries  Zipcode  \\\n",
       "0                   Sunset/Parkside  94116.0   \n",
       "1               Castro/Upper Market  94114.0   \n",
       "2                           Mission  94110.0   \n",
       "\n",
       "                              Location       point_source      Record ID  \\\n",
       "0   POINT (-122.49596958 37.744174758)  eas_address_point  1724919130633   \n",
       "1  POINT (-122.429821882 37.756697987)  eas_address_point  1710434429538   \n",
       "2  POINT (-122.425320818 37.756107837)  eas_address_point  1710416453742   \n",
       "\n",
       "               data_as_of          data_loaded_at  \n",
       "0  2025/06/28 11:55:01 PM  2025/06/29 03:38:20 AM  \n",
       "1  2025/06/28 11:55:01 PM  2025/06/29 03:38:20 AM  \n",
       "2  2025/06/29 11:55:01 PM  2025/06/30 03:38:55 AM  \n",
       "\n",
       "[3 rows x 52 columns]"
      ]
     },
     "execution_count": 6,
     "metadata": {},
     "output_type": "execute_result"
    }
   ],
   "source": [
    "df.head(3)"
   ]
  },
  {
   "cell_type": "code",
   "execution_count": 8,
   "id": "abdb345b",
   "metadata": {},
   "outputs": [
    {
     "data": {
      "text/plain": [
       "Index(['Permit Number', 'Permit Type', 'Permit Type Definition',\n",
       "       'Permit Creation Date', 'Block', 'Lot', 'Street Number',\n",
       "       'Street Number Suffix', 'Street Name', 'Street Suffix', 'Unit',\n",
       "       'Unit Suffix', 'Description', 'Current Status', 'Current Status Date',\n",
       "       'Filed Date', 'Issued Date', 'Completed Date',\n",
       "       'First Construction Document Date', 'approved_date',\n",
       "       'Structural Notification', 'Number of Existing Stories',\n",
       "       'Number of Proposed Stories', 'Voluntary Soft-Story Retrofit',\n",
       "       'Fire Only Permit', 'Estimated Cost', 'Revised Cost', 'Existing Use',\n",
       "       'Existing Units', 'Proposed Use', 'Proposed Units', 'Plansets',\n",
       "       'TIDF Compliance', 'Existing Occupancy', 'Proposed Occupancy',\n",
       "       'Existing Construction Type', 'Existing Construction Type Description',\n",
       "       'Proposed Construction Type', 'Proposed Construction Type Description',\n",
       "       'Site Permit', 'Last Permit Activity Date',\n",
       "       'Application Submission Method', 'ADU', 'Primary Address Flag',\n",
       "       'supervisor_district', 'neighborhoods_analysis_boundaries', 'Zipcode',\n",
       "       'Location', 'point_source', 'Record ID', 'data_as_of',\n",
       "       'data_loaded_at'],\n",
       "      dtype='object')"
      ]
     },
     "execution_count": 8,
     "metadata": {},
     "output_type": "execute_result"
    }
   ],
   "source": [
    "df.columns"
   ]
  },
  {
   "cell_type": "markdown",
   "id": "22cbfab5",
   "metadata": {},
   "source": [
    "The names of the columns are inconsistent. Diferent Caps Usage, \" \" and _ randomly.\n",
    "Solution: def standardize_column_names(df: pd.DataFrame) -> pd.DataFrame:"
   ]
  },
  {
   "cell_type": "code",
   "execution_count": 7,
   "id": "b3a417f6",
   "metadata": {},
   "outputs": [
    {
     "data": {
      "text/plain": [
       "Permit Number                                   0\n",
       "Permit Type                                     0\n",
       "Permit Type Definition                          0\n",
       "Permit Creation Date                            0\n",
       "Block                                           0\n",
       "Lot                                             0\n",
       "Street Number                                   0\n",
       "Street Number Suffix                      1253373\n",
       "Street Name                                     0\n",
       "Street Suffix                               15581\n",
       "Unit                                      1120775\n",
       "Unit Suffix                               1255153\n",
       "Description                                 18733\n",
       "Current Status                                 12\n",
       "Current Status Date                            12\n",
       "Filed Date                                    360\n",
       "Issued Date                                 62866\n",
       "Completed Date                             540871\n",
       "First Construction Document Date          1250276\n",
       "approved_date                               59295\n",
       "Structural Notification                   1214383\n",
       "Number of Existing Stories                 202590\n",
       "Number of Proposed Stories                 266156\n",
       "Voluntary Soft-Story Retrofit             1265479\n",
       "Fire Only Permit                          1213432\n",
       "Estimated Cost                             143367\n",
       "Revised Cost                               396174\n",
       "Existing Use                               168411\n",
       "Existing Units                             246750\n",
       "Proposed Use                               177787\n",
       "Proposed Units                             231568\n",
       "Plansets                                   127790\n",
       "TIDF Compliance                           1264742\n",
       "Existing Occupancy                         174965\n",
       "Proposed Occupancy                         164969\n",
       "Existing Construction Type                 267436\n",
       "Existing Construction Type Description     267446\n",
       "Proposed Construction Type                 269936\n",
       "Proposed Construction Type Description     270108\n",
       "Site Permit                               1234971\n",
       "Last Permit Activity Date                  100122\n",
       "Application Submission Method                   0\n",
       "ADU                                             0\n",
       "Primary Address Flag                       143454\n",
       "supervisor_district                          4021\n",
       "neighborhoods_analysis_boundaries            4021\n",
       "Zipcode                                       241\n",
       "Location                                     4021\n",
       "point_source                                 4021\n",
       "Record ID                                       0\n",
       "data_as_of                                      0\n",
       "data_loaded_at                                  0\n",
       "dtype: int64"
      ]
     },
     "execution_count": 7,
     "metadata": {},
     "output_type": "execute_result"
    }
   ],
   "source": [
    "df.isnull().sum()"
   ]
  }
 ],
 "metadata": {
  "kernelspec": {
   "display_name": "venv",
   "language": "python",
   "name": "python3"
  },
  "language_info": {
   "codemirror_mode": {
    "name": "ipython",
    "version": 3
   },
   "file_extension": ".py",
   "mimetype": "text/x-python",
   "name": "python",
   "nbconvert_exporter": "python",
   "pygments_lexer": "ipython3",
   "version": "3.13.3"
  }
 },
 "nbformat": 4,
 "nbformat_minor": 5
}
